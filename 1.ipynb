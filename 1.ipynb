{
 "cells": [
  {
   "cell_type": "code",
   "execution_count": 1,
   "metadata": {},
   "outputs": [],
   "source": [
    "import atlite\n",
    "import cartopy.io.shapereader as shpreader\n",
    "import geopandas as gpd\n",
    "from shapely.geometry import box\n",
    "import pandas as pd\n",
    "import logging\n",
    "from argparse import ArgumentParser\n",
    "from datetime import datetime"
   ]
  },
  {
   "cell_type": "code",
   "execution_count": null,
   "metadata": {},
   "outputs": [],
   "source": [
    "print(f'0 : {datetime.now()}')\n",
    "\n",
    "year = '2011'\n",
    "\n",
    "logging.basicConfig(level=logging.INFO)\n",
    "\n",
    "world = gpd.read_file(\"./data/ne_110m_admin_0_countries.shp\")\n",
    "\n",
    "# Drop uninhabited regions and Antarctica\n",
    "world = world[(world.POP_EST > 0) & (world.NAME != \"Antarctica\")]\n",
    "\n",
    "region = world\n",
    "region_name = \"world\"\n",
    "\n",
    "# Loop over the years\n",
    "logging.info(f\"Processing {year}\")"
   ]
  },
  {
   "cell_type": "code",
   "execution_count": null,
   "metadata": {},
   "outputs": [],
   "source": [
    "print(f'1 : {datetime.now()}')\n",
    "\n",
    "# Define the cutout; this will not yet trigger any major operations\n",
    "cutout = atlite.Cutout(\n",
    "    path=f\"{region_name}-{year}_timeseries\", module=\"era5\", \n",
    "    bounds=region.unary_union.bounds, \n",
    "    time=f\"{year}\",\n",
    "    chunks={\"time\": 100,},)"
   ]
  },
  {
   "cell_type": "code",
   "execution_count": null,
   "metadata": {},
   "outputs": [],
   "source": [
    "print(cutout)"
   ]
  },
  {
   "cell_type": "code",
   "execution_count": null,
   "metadata": {},
   "outputs": [
    {
     "name": "stderr",
     "output_type": "stream",
     "text": [
      "61e5496323de09a4015edcb457f872b5.nc:  54%|█████▎    | 1.79G/3.33G [04:42<06:48, 4.05MB/s]"
     ]
    }
   ],
   "source": [
    "# This is where all the work happens (this can take some time).\n",
    "cutout.prepare(\n",
    "    compression={\"zlib\": True, \"complevel\": 9},\n",
    "    features = ['wind',],\n",
    "    monthly_requests=True,\n",
    "    concurrent_requests=True)\n",
    "\n",
    "print(f'2 : {datetime.now()}')"
   ]
  },
  {
   "cell_type": "code",
   "execution_count": null,
   "metadata": {},
   "outputs": [],
   "source": [
    "# Extract the wind power generation capacity factors\n",
    "wind_power_generation = cutout.wind(\n",
    "    \"Vestas_V112_3MW\", \n",
    "    capacity_factor_timeseries=True,\n",
    "    )\n",
    "\n",
    "print(f'3 : {datetime.now()}')"
   ]
  }
 ],
 "metadata": {
  "kernelspec": {
   "display_name": "Python 3",
   "language": "python",
   "name": "python3"
  },
  "language_info": {
   "codemirror_mode": {
    "name": "ipython",
    "version": 3
   },
   "file_extension": ".py",
   "mimetype": "text/x-python",
   "name": "python",
   "nbconvert_exporter": "python",
   "pygments_lexer": "ipython3",
   "version": "3.12.1"
  }
 },
 "nbformat": 4,
 "nbformat_minor": 2
}
