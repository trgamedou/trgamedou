{
 "cells": [
  {
   "cell_type": "code",
   "execution_count": null,
   "metadata": {
    "vscode": {
     "languageId": "plaintext"
    }
   },
   "outputs": [],
   "source": [
    "import csv\n",
    "import requests\n",
    "\n",
    "# header\n",
    "with open(f\"data.csv\" , \"w\" , encoding=\"UTF-8\" , newline=\"\") as file:\n",
    "\twriter = csv.writer(file)\n",
    "\twriter.writerow([\n",
    "     \t\"name\",\n",
    "\t\t\"min_price\",\n",
    "\t\t\"max_price\",\n",
    "\t\t\"online_store_count\",\n",
    "\t\t\"physical_store_count\",\n",
    "\t\t\"product_client_url\",\n",
    "\t\t\"product_more_info_api\"\n",
    "  \t])\n",
    "\n",
    "def store_data(\n",
    "\tname,\n",
    "\tmin_price,\n",
    "\tmax_price,\n",
    "\tonline_store_count,\n",
    "\tphysical_store_count,\n",
    "\tproduct_client_url,\n",
    "\tproduct_more_info_api\n",
    "):\n",
    "\twith open(f'data.csv', 'a', newline='', encoding='utf-8') as file:\n",
    "\t\twriter = csv.writer(file)\n",
    "\t\twriter.writerow([\n",
    "      \t\tname,\n",
    "            min_price,\n",
    "            max_price,\n",
    "            online_store_count,\n",
    "            physical_store_count,\n",
    "            product_client_url,\n",
    "            product_more_info_api\n",
    "        ])\n",
    "    \n",
    "def crawl_data(search_page_url):\n",
    "\tsearch_response = requests.get(search_page_url)\n",
    "\tsearch_response_json = search_response.json()\n",
    "\tsearch_results = search_response_json[\"results\"]\n",
    " \n",
    "\tfor post in search_results:\n",
    "\t\tproduct_client_url = \"https://torob.com\" + post[\"web_client_absolute_url\"]\n",
    "\t\tproduct_more_info_api = post[\"more_info_url\"]\n",
    "\t\tproduct_response = requests.get(product_more_info_api)\n",
    "\t\tproduct_results = product_response.json()\n",
    "\t\tname = product_results[\"name1\"]\n",
    "\t\tmin_price = product_results[\"min_price\"]\n",
    "\t\tmax_price = product_results[\"max_price\"]\n",
    "\t\tonline_store_count = len(product_results[\"products_info\"][\"result\"])\n",
    "\t\tphysical_store_count = len(product_results[\"products_in_store_info\"][\"result\"])\n",
    "\n",
    "\t\tstore_data(\n",
    "\t\t\tname,\n",
    "\t\t\tmin_price,\n",
    "\t\t\tmax_price,\n",
    "\t\t\tonline_store_count,\n",
    "\t\t\tphysical_store_count,\n",
    "\t\t\tproduct_client_url,\n",
    "\t\t\tproduct_more_info_api\n",
    "\t\t)\n",
    "\n",
    "\tnext_search_page_url = search_response_json[\"next\"]\n",
    "\treturn next_search_page_url\n",
    "\n",
    "\n",
    "def main(search_page_url):\n",
    "\tnext_search_page_url = crawl_data(search_page_url)\n",
    "\n",
    "\twhile next_search_page_url:\n",
    "\t\tnext_search_page_url = crawl_data(search_page_url)"
   ]
  },
  {
   "cell_type": "code",
   "execution_count": null,
   "metadata": {
    "vscode": {
     "languageId": "plaintext"
    }
   },
   "outputs": [],
   "source": [
    "category_id = 175\n",
    "category_api = f\"https://api.torob.com/v4/base-product/search/?page=0&sort=popularity&size=24&category={category_id}\"\n",
    "\n",
    "main(category_api)"
   ]
  }
 ],
 "metadata": {
  "language_info": {
   "name": "python"
  }
 },
 "nbformat": 4,
 "nbformat_minor": 2
}
