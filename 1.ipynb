{
 "cells": [
  {
   "cell_type": "code",
   "execution_count": 1,
   "metadata": {},
   "outputs": [],
   "source": [
    "import atlite\n",
    "import cartopy.io.shapereader as shpreader\n",
    "import geopandas as gpd\n",
    "from shapely.geometry import box\n",
    "import pandas as pd\n",
    "import logging\n",
    "from argparse import ArgumentParser\n",
    "from datetime import datetime"
   ]
  },
  {
   "cell_type": "code",
   "execution_count": 2,
   "metadata": {},
   "outputs": [
    {
     "name": "stderr",
     "output_type": "stream",
     "text": [
      "INFO:root:Processing 2020\n"
     ]
    },
    {
     "name": "stdout",
     "output_type": "stream",
     "text": [
      "0 : 2024-10-05 15:10:03.061111\n"
     ]
    }
   ],
   "source": [
    "print(f'0 : {datetime.now()}')\n",
    "\n",
    "year = 2020\n",
    "\n",
    "logging.basicConfig(level=logging.INFO)\n",
    "\n",
    "world = gpd.read_file(\"./data/ne_110m_admin_0_countries.shp\")\n",
    "\n",
    "# Drop uninhabited regions and Antarctica\n",
    "world = world[(world.POP_EST > 0) & (world.NAME != \"Antarctica\")]\n",
    "\n",
    "region = world\n",
    "region_name = \"western-europe\"\n",
    "\n",
    "# Loop over the years\n",
    "logging.info(f\"Processing {year}\")"
   ]
  },
  {
   "cell_type": "code",
   "execution_count": 3,
   "metadata": {},
   "outputs": [
    {
     "name": "stderr",
     "output_type": "stream",
     "text": [
      "INFO:atlite.cutout:Building new cutout western-europe-2011-01.nc\n"
     ]
    },
    {
     "name": "stdout",
     "output_type": "stream",
     "text": [
      "1 : 2024-10-05 15:10:16.127431\n"
     ]
    }
   ],
   "source": [
    "print(f'1 : {datetime.now()}')\n",
    "\n",
    "# Define the cutout; this will not yet trigger any major operations\n",
    "cutout = atlite.Cutout(\n",
    "    path=f\"{region_name}-2011-01.nc\",\n",
    "    module=\"era5\",\n",
    "    x=slice(-13.6913, 1.7712),\n",
    "    y=slice(49.9096, 60.8479),\n",
    "    time=\"2011-01\",\n",
    ")"
   ]
  },
  {
   "cell_type": "code",
   "execution_count": null,
   "metadata": {},
   "outputs": [
    {
     "name": "stderr",
     "output_type": "stream",
     "text": [
      "INFO:atlite.data:Storing temporary files in /tmp/tmp85iun41o\n",
      "INFO:atlite.data:Calculating and writing with module era5:\n",
      "INFO:atlite.datasets.era5:Requesting data for feature influx...\n",
      "INFO:atlite.datasets.era5:Requesting data for feature wind...\n",
      "INFO:atlite.datasets.era5:Requesting data for feature height...\n",
      "INFO:atlite.datasets.era5:Requesting data for feature runoff...\n",
      "/usr/local/python/3.12.1/lib/python3.12/site-packages/cads_api_client/legacy_api_client.py:101: UserWarning: This is a beta version. The following parameters have not been implemented yet: {'info_callback': <bound method Logger.debug of <Logger atlite.datasets.era5 (INFO)>>}.\n",
      "  warnings.warn(\n",
      "2024-10-05 15:10:32,738 INFO [2024-09-28T00:00:00] **Welcome to the New Climate Data Store (CDS)!** This new system is in its early days of full operations and still undergoing enhancements and fine tuning. Some disruptions are to be expected. Your \n",
      "[feedback](https://jira.ecmwf.int/plugins/servlet/desk/portal/1/create/202) is key to improve the user experience on the new CDS for the benefit of everyone. Thank you.\n",
      "INFO:cads_api_client.processing:[2024-09-28T00:00:00] **Welcome to the New Climate Data Store (CDS)!** This new system is in its early days of full operations and still undergoing enhancements and fine tuning. Some disruptions are to be expected. Your \n",
      "[feedback](https://jira.ecmwf.int/plugins/servlet/desk/portal/1/create/202) is key to improve the user experience on the new CDS for the benefit of everyone. Thank you.\n",
      "2024-10-05 15:10:32,740 INFO [2024-09-28T00:00:00] **Welcome to the New Climate Data Store (CDS)!** This new system is in its early days of full operations and still undergoing enhancements and fine tuning. Some disruptions are to be expected. Your \n",
      "[feedback](https://jira.ecmwf.int/plugins/servlet/desk/portal/1/create/202) is key to improve the user experience on the new CDS for the benefit of everyone. Thank you.\n",
      "INFO:cads_api_client.processing:[2024-09-28T00:00:00] **Welcome to the New Climate Data Store (CDS)!** This new system is in its early days of full operations and still undergoing enhancements and fine tuning. Some disruptions are to be expected. Your \n",
      "[feedback](https://jira.ecmwf.int/plugins/servlet/desk/portal/1/create/202) is key to improve the user experience on the new CDS for the benefit of everyone. Thank you.\n",
      "2024-10-05 15:10:32,740 WARNING [2024-09-26T00:00:00] Should you have not yet migrated from the old CDS system to the new CDS, please check our [informative page](https://confluence.ecmwf.int/x/uINmFw) for guidance.\n",
      "2024-10-05 15:10:32,741 WARNING [2024-09-26T00:00:00] Should you have not yet migrated from the old CDS system to the new CDS, please check our [informative page](https://confluence.ecmwf.int/x/uINmFw) for guidance.\n",
      "WARNING:cads_api_client.processing:[2024-09-26T00:00:00] Should you have not yet migrated from the old CDS system to the new CDS, please check our [informative page](https://confluence.ecmwf.int/x/uINmFw) for guidance.\n",
      "2024-10-05 15:10:32,743 INFO [2024-09-26T00:00:00] Watch our [Forum](https://forum.ecmwf.int/) for Announcements, news and other discussed topics.\n",
      "2024-10-05 15:10:32,744 INFO [2024-09-28T00:00:00] **Welcome to the New Climate Data Store (CDS)!** This new system is in its early days of full operations and still undergoing enhancements and fine tuning. Some disruptions are to be expected. Your \n",
      "[feedback](https://jira.ecmwf.int/plugins/servlet/desk/portal/1/create/202) is key to improve the user experience on the new CDS for the benefit of everyone. Thank you.\n",
      "WARNING:cads_api_client.processing:[2024-09-26T00:00:00] Should you have not yet migrated from the old CDS system to the new CDS, please check our [informative page](https://confluence.ecmwf.int/x/uINmFw) for guidance.\n",
      "2024-10-05 15:10:32,744 INFO [2024-09-26T00:00:00] Watch our [Forum](https://forum.ecmwf.int/) for Announcements, news and other discussed topics.\n",
      "INFO:cads_api_client.processing:[2024-09-26T00:00:00] Watch our [Forum](https://forum.ecmwf.int/) for Announcements, news and other discussed topics.\n",
      "2024-10-05 15:10:32,745 INFO [2024-09-16T00:00:00] Remember that you need to have an ECMWF account to use the new CDS. **Your old CDS credentials will not work in new CDS!**\n",
      "INFO:cads_api_client.processing:[2024-09-28T00:00:00] **Welcome to the New Climate Data Store (CDS)!** This new system is in its early days of full operations and still undergoing enhancements and fine tuning. Some disruptions are to be expected. Your \n",
      "[feedback](https://jira.ecmwf.int/plugins/servlet/desk/portal/1/create/202) is key to improve the user experience on the new CDS for the benefit of everyone. Thank you.\n",
      "2024-10-05 15:10:32,746 WARNING [2024-09-26T00:00:00] Should you have not yet migrated from the old CDS system to the new CDS, please check our [informative page](https://confluence.ecmwf.int/x/uINmFw) for guidance.\n",
      "INFO:cads_api_client.processing:[2024-09-26T00:00:00] Watch our [Forum](https://forum.ecmwf.int/) for Announcements, news and other discussed topics.\n",
      "2024-10-05 15:10:32,747 INFO [2024-09-16T00:00:00] Remember that you need to have an ECMWF account to use the new CDS. **Your old CDS credentials will not work in new CDS!**\n",
      "INFO:cads_api_client.processing:[2024-09-16T00:00:00] Remember that you need to have an ECMWF account to use the new CDS. **Your old CDS credentials will not work in new CDS!**\n",
      "2024-10-05 15:10:32,747 WARNING [2024-06-16T00:00:00] CDS API syntax is changed and some keys or parameter names may have also changed. To avoid requests failing, please use the \"Show API request code\" tool on the dataset Download Form to check you are using the correct syntax for your API request.\n",
      "WARNING:cads_api_client.processing:[2024-09-26T00:00:00] Should you have not yet migrated from the old CDS system to the new CDS, please check our [informative page](https://confluence.ecmwf.int/x/uINmFw) for guidance.\n",
      "2024-10-05 15:10:32,748 INFO [2024-09-26T00:00:00] Watch our [Forum](https://forum.ecmwf.int/) for Announcements, news and other discussed topics.\n",
      "INFO:cads_api_client.processing:[2024-09-16T00:00:00] Remember that you need to have an ECMWF account to use the new CDS. **Your old CDS credentials will not work in new CDS!**\n",
      "2024-10-05 15:10:32,749 WARNING [2024-06-16T00:00:00] CDS API syntax is changed and some keys or parameter names may have also changed. To avoid requests failing, please use the \"Show API request code\" tool on the dataset Download Form to check you are using the correct syntax for your API request.\n",
      "WARNING:cads_api_client.processing:[2024-06-16T00:00:00] CDS API syntax is changed and some keys or parameter names may have also changed. To avoid requests failing, please use the \"Show API request code\" tool on the dataset Download Form to check you are using the correct syntax for your API request.\n",
      "2024-10-05 15:10:32,749 INFO [2024-09-28T00:00:00] **Welcome to the New Climate Data Store (CDS)!** This new system is in its early days of full operations and still undergoing enhancements and fine tuning. Some disruptions are to be expected. Your \n",
      "[feedback](https://jira.ecmwf.int/plugins/servlet/desk/portal/1/create/202) is key to improve the user experience on the new CDS for the benefit of everyone. Thank you.\n",
      "INFO:cads_api_client.processing:[2024-09-26T00:00:00] Watch our [Forum](https://forum.ecmwf.int/) for Announcements, news and other discussed topics.\n",
      "2024-10-05 15:10:32,753 INFO [2024-09-16T00:00:00] Remember that you need to have an ECMWF account to use the new CDS. **Your old CDS credentials will not work in new CDS!**\n",
      "WARNING:cads_api_client.processing:[2024-06-16T00:00:00] CDS API syntax is changed and some keys or parameter names may have also changed. To avoid requests failing, please use the \"Show API request code\" tool on the dataset Download Form to check you are using the correct syntax for your API request.\n",
      "INFO:cads_api_client.processing:[2024-09-28T00:00:00] **Welcome to the New Climate Data Store (CDS)!** This new system is in its early days of full operations and still undergoing enhancements and fine tuning. Some disruptions are to be expected. Your \n",
      "[feedback](https://jira.ecmwf.int/plugins/servlet/desk/portal/1/create/202) is key to improve the user experience on the new CDS for the benefit of everyone. Thank you.\n",
      "2024-10-05 15:10:32,755 WARNING [2024-09-26T00:00:00] Should you have not yet migrated from the old CDS system to the new CDS, please check our [informative page](https://confluence.ecmwf.int/x/uINmFw) for guidance.\n",
      "INFO:cads_api_client.processing:[2024-09-16T00:00:00] Remember that you need to have an ECMWF account to use the new CDS. **Your old CDS credentials will not work in new CDS!**\n",
      "2024-10-05 15:10:32,756 WARNING [2024-06-16T00:00:00] CDS API syntax is changed and some keys or parameter names may have also changed. To avoid requests failing, please use the \"Show API request code\" tool on the dataset Download Form to check you are using the correct syntax for your API request.\n",
      "WARNING:cads_api_client.processing:[2024-09-26T00:00:00] Should you have not yet migrated from the old CDS system to the new CDS, please check our [informative page](https://confluence.ecmwf.int/x/uINmFw) for guidance.\n",
      "WARNING:cads_api_client.processing:[2024-06-16T00:00:00] CDS API syntax is changed and some keys or parameter names may have also changed. To avoid requests failing, please use the \"Show API request code\" tool on the dataset Download Form to check you are using the correct syntax for your API request.\n",
      "2024-10-05 15:10:32,756 INFO [2024-09-26T00:00:00] Watch our [Forum](https://forum.ecmwf.int/) for Announcements, news and other discussed topics.\n",
      "INFO:cads_api_client.processing:[2024-09-26T00:00:00] Watch our [Forum](https://forum.ecmwf.int/) for Announcements, news and other discussed topics.\n",
      "2024-10-05 15:10:32,759 INFO [2024-09-16T00:00:00] Remember that you need to have an ECMWF account to use the new CDS. **Your old CDS credentials will not work in new CDS!**\n",
      "INFO:cads_api_client.processing:[2024-09-16T00:00:00] Remember that you need to have an ECMWF account to use the new CDS. **Your old CDS credentials will not work in new CDS!**\n",
      "2024-10-05 15:10:32,759 WARNING [2024-06-16T00:00:00] CDS API syntax is changed and some keys or parameter names may have also changed. To avoid requests failing, please use the \"Show API request code\" tool on the dataset Download Form to check you are using the correct syntax for your API request.\n",
      "WARNING:cads_api_client.processing:[2024-06-16T00:00:00] CDS API syntax is changed and some keys or parameter names may have also changed. To avoid requests failing, please use the \"Show API request code\" tool on the dataset Download Form to check you are using the correct syntax for your API request.\n",
      "2024-10-05 15:10:33,296 INFO Request ID is 646c0955-c1bc-4037-9787-273b3fb72369\n",
      "INFO:cads_api_client.processing:Request ID is 646c0955-c1bc-4037-9787-273b3fb72369\n",
      "2024-10-05 15:10:33,301 INFO Request ID is 437c05ec-c6cb-465a-b5ce-7681a01521c5\n",
      "INFO:cads_api_client.processing:Request ID is 437c05ec-c6cb-465a-b5ce-7681a01521c5\n",
      "2024-10-05 15:10:33,346 INFO Request ID is 7beaa887-8150-40ae-a5a6-4ab866b71bcd\n",
      "INFO:cads_api_client.processing:Request ID is 7beaa887-8150-40ae-a5a6-4ab866b71bcd\n",
      "2024-10-05 15:10:33,356 INFO Request ID is 3b86fe8e-3110-4f7a-99f2-26dd9f8bdf6e\n",
      "INFO:cads_api_client.processing:Request ID is 3b86fe8e-3110-4f7a-99f2-26dd9f8bdf6e\n",
      "2024-10-05 15:10:33,442 INFO status has been updated to accepted\n",
      "INFO:cads_api_client.processing:status has been updated to accepted\n",
      "2024-10-05 15:10:33,449 INFO status has been updated to accepted\n",
      "INFO:cads_api_client.processing:status has been updated to accepted\n",
      "2024-10-05 15:10:33,499 INFO status has been updated to accepted\n",
      "INFO:cads_api_client.processing:status has been updated to accepted\n",
      "2024-10-05 15:10:33,499 INFO status has been updated to accepted\n",
      "INFO:cads_api_client.processing:status has been updated to accepted\n"
     ]
    }
   ],
   "source": [
    "# This is where all the work happens (this can take some time).\n",
    "cutout.prepare(\n",
    "    compression={\"zlib\": True, \"complevel\": 9},\n",
    "    monthly_requests=True,\n",
    "    concurrent_requests=True)\n",
    "\n",
    "print(f'2 : {datetime.now()}')"
   ]
  }
 ],
 "metadata": {
  "kernelspec": {
   "display_name": "Python 3",
   "language": "python",
   "name": "python3"
  },
  "language_info": {
   "codemirror_mode": {
    "name": "ipython",
    "version": 3
   },
   "file_extension": ".py",
   "mimetype": "text/x-python",
   "name": "python",
   "nbconvert_exporter": "python",
   "pygments_lexer": "ipython3",
   "version": "3.12.1"
  }
 },
 "nbformat": 4,
 "nbformat_minor": 2
}
