{
 "cells": [
  {
   "cell_type": "code",
   "execution_count": 1,
   "metadata": {},
   "outputs": [],
   "source": [
    "import atlite\n",
    "import cartopy.io.shapereader as shpreader\n",
    "import geopandas as gpd\n",
    "from shapely.geometry import box\n",
    "import pandas as pd\n",
    "import logging\n",
    "from argparse import ArgumentParser"
   ]
  },
  {
   "cell_type": "code",
   "execution_count": 2,
   "metadata": {},
   "outputs": [],
   "source": [
    "year = 2020"
   ]
  },
  {
   "cell_type": "code",
   "execution_count": null,
   "metadata": {},
   "outputs": [],
   "source": [
    "logging.basicConfig(level=logging.INFO)\n",
    "\n",
    "world = gpd.read_file(\"./data/ne_110m_admin_0_countries.shp\")\n",
    "\n",
    "# Drop uninhabited regions and Antarctica\n",
    "world = world[(world.POP_EST > 0) & (world.NAME != \"Antarctica\")]\n",
    "\n",
    "region = world\n",
    "region_name = \"world\"\n",
    "\n",
    "# Loop over the years\n",
    "logging.info(f\"Processing {year}\")"
   ]
  },
  {
   "cell_type": "code",
   "execution_count": null,
   "metadata": {},
   "outputs": [],
   "source": [
    "# Define the cutout; this will not yet trigger any major operations\n",
    "cutout = atlite.Cutout(\n",
    "    path=f\"{region_name}-{year}_timeseries\", module=\"era5\", \n",
    "    bounds=region.unary_union.bounds, \n",
    "    time=f\"{year}\",\n",
    "    chunks={\"time\": 100,},)"
   ]
  },
  {
   "cell_type": "code",
   "execution_count": null,
   "metadata": {},
   "outputs": [],
   "source": [
    "# This is where all the work happens (this can take some time).\n",
    "cutout.prepare(\n",
    "    compression={\"zlib\": True, \"complevel\": 9},\n",
    "    monthly_requests=True,\n",
    "    concurrent_requests=True)"
   ]
  }
 ],
 "metadata": {
  "kernelspec": {
   "display_name": "Python 3",
   "language": "python",
   "name": "python3"
  },
  "language_info": {
   "codemirror_mode": {
    "name": "ipython",
    "version": 3
   },
   "file_extension": ".py",
   "mimetype": "text/x-python",
   "name": "python",
   "nbconvert_exporter": "python",
   "pygments_lexer": "ipython3",
   "version": "3.12.1"
  }
 },
 "nbformat": 4,
 "nbformat_minor": 2
}
